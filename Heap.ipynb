{
 "cells": [
  {
   "cell_type": "markdown",
   "id": "ac8b917b",
   "metadata": {},
   "source": [
    "Heap Simple Operation"
   ]
  },
  {
   "cell_type": "code",
   "execution_count": 2,
   "id": "cb78f938",
   "metadata": {},
   "outputs": [
    {
     "name": "stdout",
     "output_type": "stream",
     "text": [
      "[1, 2, 5, 10]\n",
      "[2, 10, 5]\n"
     ]
    }
   ],
   "source": [
    "import heapq\n",
    "\n",
    "heap=[]\n",
    "heapq.heappush(heap,10)\n",
    "heapq.heappush(heap,5)\n",
    "heapq.heappush(heap,2)\n",
    "heapq.heappush(heap,1)\n",
    "print(heap)\n",
    "\n",
    "heapq.heappop(heap)\n",
    "print(heap)"
   ]
  },
  {
   "cell_type": "markdown",
   "id": "cf993b68",
   "metadata": {},
   "source": [
    "If a list doesn't maintain main heap property, then what to do?? "
   ]
  },
  {
   "cell_type": "code",
   "execution_count": 4,
   "id": "d0df9407",
   "metadata": {},
   "outputs": [
    {
     "name": "stdout",
     "output_type": "stream",
     "text": [
      "[1, 2, 5, 3, 4, 6]\n"
     ]
    }
   ],
   "source": [
    "import heapq\n",
    "\n",
    "l=[1,3,5,2,4,6]\n",
    "heapq.heapify(l)\n",
    "print(l)"
   ]
  },
  {
   "cell_type": "markdown",
   "id": "ab3fe50b",
   "metadata": {},
   "source": [
    "If you want to arrange min heap in a single line push,pop operation then what you will do?"
   ]
  },
  {
   "cell_type": "code",
   "execution_count": 7,
   "id": "878c25aa",
   "metadata": {},
   "outputs": [
    {
     "name": "stdout",
     "output_type": "stream",
     "text": [
      "[3, 2, 5, 89, 4, 6]\n"
     ]
    }
   ],
   "source": [
    "import heapq\n",
    "heap=[1,3,5,2,4,6]\n",
    "heapq.heappushpop(heap,89)\n",
    "print(heap)"
   ]
  },
  {
   "cell_type": "code",
   "execution_count": 9,
   "id": "1c53b43b",
   "metadata": {},
   "outputs": [
    {
     "data": {
      "text/plain": [
       "[4, 89, 5, 100, 100, 6]"
      ]
     },
     "execution_count": 9,
     "metadata": {},
     "output_type": "execute_result"
    }
   ],
   "source": [
    "heapq.heapreplace(heap,100)\n",
    "heap"
   ]
  },
  {
   "cell_type": "code",
   "execution_count": 13,
   "id": "e3d9927d",
   "metadata": {},
   "outputs": [
    {
     "data": {
      "text/plain": [
       "[4, 5]"
      ]
     },
     "execution_count": 13,
     "metadata": {},
     "output_type": "execute_result"
    }
   ],
   "source": [
    "heapq.nsmallest(2,heap)"
   ]
  },
  {
   "cell_type": "code",
   "execution_count": 12,
   "id": "24892f4e",
   "metadata": {},
   "outputs": [
    {
     "data": {
      "text/plain": [
       "[100, 100, 89]"
      ]
     },
     "execution_count": 12,
     "metadata": {},
     "output_type": "execute_result"
    }
   ],
   "source": [
    "heapq.nlargest(3,heap)"
   ]
  }
 ],
 "metadata": {
  "celltoolbar": "Edit Metadata",
  "kernelspec": {
   "display_name": "Python 3",
   "language": "python",
   "name": "python3"
  },
  "language_info": {
   "codemirror_mode": {
    "name": "ipython",
    "version": 3
   },
   "file_extension": ".py",
   "mimetype": "text/x-python",
   "name": "python",
   "nbconvert_exporter": "python",
   "pygments_lexer": "ipython3",
   "version": "3.9.4"
  }
 },
 "nbformat": 4,
 "nbformat_minor": 5
}
